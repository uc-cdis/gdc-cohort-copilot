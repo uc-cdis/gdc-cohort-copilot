{
 "cells": [
  {
   "cell_type": "code",
   "execution_count": null,
   "id": "0",
   "metadata": {},
   "outputs": [],
   "source": [
    "from collections import defaultdict\n",
    "from itertools import combinations\n",
    "\n",
    "import pandas as pd\n",
    "from scipy.stats import ttest_rel\n",
    "from statsmodels.stats.contingency_tables import mcnemar\n",
    "from statsmodels.stats.multitest import multipletests"
   ]
  },
  {
   "cell_type": "code",
   "execution_count": null,
   "id": "1",
   "metadata": {},
   "outputs": [],
   "source": [
    "model_type_results = {\n",
    "    \"gpt2\": \"../data/metrics/gpt2-test-metrics.csv\",\n",
    "    \"bart\": \"../data/metrics/bart-test-metrics.csv\",\n",
    "    \"mistral\": \"../data/metrics/mistral-lora-test-metrics.csv\",\n",
    "}\n",
    "\n",
    "data_mixture_results = {\n",
    "    \"gpt2\": \"../data/metrics/gpt2-test-metrics.csv\",\n",
    "    \"gpt2-100k\": \"../data/metrics/gpt2-100k-test-metrics.csv\",\n",
    "    # \"gpt2-1m\": \"../data/metrics/gpt2-1m-lora-test-metrics.csv\",\n",
    "}\n",
    "\n",
    "comparison_results = {\n",
    "    \"gpt2-100k\": \"../data/metrics/gpt2-100k-test-metrics.csv\",\n",
    "    \"gpt-4o\": \"../data/metrics/gpt-4o-2024-08-06-test-metrics.csv\",\n",
    "}"
   ]
  },
  {
   "cell_type": "code",
   "execution_count": null,
   "id": "2",
   "metadata": {},
   "outputs": [],
   "source": [
    "METRICS = {\n",
    "    \"tpr\": ttest_rel,\n",
    "    \"iou\": ttest_rel,\n",
    "    \"exact\": mcnemar,\n",
    "    \"bertscore\": ttest_rel,\n",
    "}\n",
    "\n",
    "def compute_pvals(results):\n",
    "    scores = {k: pd.read_csv(v) for k, v in results.items()}\n",
    "\n",
    "    models = sorted(list(scores.keys()))\n",
    "    combos = list(combinations(models, 2))\n",
    "\n",
    "    ret = dict()\n",
    "    for metric, test in METRICS.items():\n",
    "        ps = []\n",
    "        for m1, m2 in combos:\n",
    "            x1 = scores[m1][metric]\n",
    "            x2 = scores[m2][metric]\n",
    "\n",
    "            if test == mcnemar:\n",
    "                a = ((x1 == 0) & (x2 == 0)).sum()\n",
    "                b = ((x1 == 0) & (x2 == 1)).sum()\n",
    "                c = ((x1 == 1) & (x2 == 0)).sum()\n",
    "                d = ((x1 == 1) & (x2 == 1)).sum()\n",
    "                mat = [\n",
    "                    [a, b],\n",
    "                    [c, d],\n",
    "                ]\n",
    "                p = test(mat).pvalue\n",
    "            elif test == ttest_rel:\n",
    "                p = test(x1, x2).pvalue\n",
    "            else:\n",
    "                raise NotImplementedError(f\"Unknown test: {test}\")\n",
    "\n",
    "            ps.append(p)\n",
    "        _, corrected_ps, _, _ = multipletests(ps, method=\"bonferroni\")\n",
    "        ret[metric] = corrected_ps\n",
    "    return ret, combos\n",
    "\n",
    "\n",
    "def compute_means(results):\n",
    "    scores = {k: pd.read_csv(v) for k, v in results.items()}\n",
    "    means = defaultdict(dict)\n",
    "    stds = defaultdict(dict)\n",
    "    for model, df in scores.items():\n",
    "        for metric in METRICS:\n",
    "            means[model][metric] = df[metric].mean()\n",
    "            stds[model][metric] = df[metric].std()\n",
    "    return pd.DataFrame(means).T, pd.DataFrame(stds).T"
   ]
  },
  {
   "cell_type": "code",
   "execution_count": null,
   "id": "3",
   "metadata": {},
   "outputs": [],
   "source": [
    "means, stds = compute_means(comparison_results)"
   ]
  },
  {
   "cell_type": "code",
   "execution_count": null,
   "id": "4",
   "metadata": {},
   "outputs": [],
   "source": [
    "means"
   ]
  },
  {
   "cell_type": "code",
   "execution_count": null,
   "id": "5",
   "metadata": {},
   "outputs": [],
   "source": [
    "stds"
   ]
  },
  {
   "cell_type": "code",
   "execution_count": null,
   "id": "6",
   "metadata": {},
   "outputs": [],
   "source": [
    "metrics, combos = compute_pvals(comparison_results)"
   ]
  },
  {
   "cell_type": "code",
   "execution_count": null,
   "id": "7",
   "metadata": {},
   "outputs": [],
   "source": [
    "combos"
   ]
  },
  {
   "cell_type": "code",
   "execution_count": null,
   "id": "8",
   "metadata": {},
   "outputs": [],
   "source": [
    "metrics"
   ]
  },
  {
   "cell_type": "code",
   "execution_count": null,
   "id": "9",
   "metadata": {},
   "outputs": [],
   "source": []
  }
 ],
 "metadata": {
  "kernelspec": {
   "display_name": "cohort",
   "language": "python",
   "name": "python3"
  },
  "language_info": {
   "codemirror_mode": {
    "name": "ipython",
    "version": 3
   },
   "file_extension": ".py",
   "mimetype": "text/x-python",
   "name": "python",
   "nbconvert_exporter": "python",
   "pygments_lexer": "ipython3",
   "version": "3.10.14"
  }
 },
 "nbformat": 4,
 "nbformat_minor": 5
}
